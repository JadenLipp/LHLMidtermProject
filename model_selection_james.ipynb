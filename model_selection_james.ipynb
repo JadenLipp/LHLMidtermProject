{
 "cells": [
  {
   "cell_type": "code",
   "execution_count": 47,
   "metadata": {},
   "outputs": [],
   "source": [
    "import pandas as pd\n",
    "import numpy as np\n",
    "from sklearn.metrics import mean_absolute_error\n",
    "from sklearn.metrics import r2_score\n",
    "from sklearn.metrics import max_error\n",
    "from sklearn.linear_model import LinearRegression\n",
    "from sklearn.ensemble import RandomForestRegressor\n",
    "from sklearn.naive_bayes import GaussianNB\n",
    "from sklearn.neighbors import KNeighborsRegressor\n",
    "from sklearn.linear_model import Ridge\n",
    "import xgboost as xgb"
   ]
  },
  {
   "cell_type": "code",
   "execution_count": 17,
   "metadata": {},
   "outputs": [],
   "source": [
    "df = pd.read_csv('feature_eng.csv')"
   ]
  },
  {
   "cell_type": "code",
   "execution_count": 18,
   "metadata": {},
   "outputs": [],
   "source": [
    "df = df.drop(columns=['Unnamed: 0'])"
   ]
  },
  {
   "cell_type": "code",
   "execution_count": 19,
   "metadata": {},
   "outputs": [
    {
     "data": {
      "text/plain": [
       "fl_date                 0\n",
       "origin                  0\n",
       "dest                    0\n",
       "distance                0\n",
       "taxi_time               0\n",
       "actual_elapsed_time     0\n",
       "origin_delay_airport    0\n",
       "dest_delay_airport      0\n",
       "arr_delay               0\n",
       "origin_delays           0\n",
       "origin_delay            0\n",
       "dest_delay              0\n",
       "delay_by_month          0\n",
       "delay_by_day            0\n",
       "dtype: int64"
      ]
     },
     "execution_count": 19,
     "metadata": {},
     "output_type": "execute_result"
    }
   ],
   "source": [
    "df.isnull().sum()"
   ]
  },
  {
   "cell_type": "code",
   "execution_count": 14,
   "metadata": {},
   "outputs": [],
   "source": [
    "#data split 30% 70%\n",
    "def split_data(df, drop_list):\n",
    "    df = df.drop(drop_list,axis=1)\n",
    "    print(df.columns)\n",
    "    #test train split time\n",
    "    from sklearn.model_selection import train_test_split\n",
    "    y = df['arr_delay'].values #target\n",
    "    X = df.drop(['arr_delay'],axis=1).values #features\n",
    "    X_train, X_test, y_train, y_test = train_test_split(X, y, test_size=0.3,\n",
    "                                                    random_state=100)\n",
    "\n",
    "    print(\"train-set size: \", len(y_train),\n",
    "      \"\\ntest-set size: \", len(y_test))\n",
    "    return X_train, X_test, y_train, y_test"
   ]
  },
  {
   "cell_type": "code",
   "execution_count": 15,
   "metadata": {},
   "outputs": [],
   "source": [
    "def get_predictions(clf, X_train, y_train, X_test):\n",
    "    # create classifier\n",
    "    clf = clf\n",
    "    # fit it to training data\n",
    "    clf.fit(X_train,y_train)\n",
    "    # predict using test data\n",
    "    y_pred = clf.predict(X_test)\n",
    "    return y_pred"
   ]
  },
  {
   "cell_type": "code",
   "execution_count": 16,
   "metadata": {},
   "outputs": [],
   "source": [
    "#Function to print the regressor's scores\n",
    "def print_scores(y_test,y_pred):\n",
    "    print('Mean Absolute Error: ', mean_absolute_error(y_test, y_pred))\n",
    "    print('R2: ', r2_score(y_test, y_pred))\n",
    "    print('Max Error: ', max_error(y_test, y_pred))"
   ]
  },
  {
   "cell_type": "code",
   "execution_count": 51,
   "metadata": {},
   "outputs": [
    {
     "data": {
      "text/html": [
       "<div>\n",
       "<style scoped>\n",
       "    .dataframe tbody tr th:only-of-type {\n",
       "        vertical-align: middle;\n",
       "    }\n",
       "\n",
       "    .dataframe tbody tr th {\n",
       "        vertical-align: top;\n",
       "    }\n",
       "\n",
       "    .dataframe thead th {\n",
       "        text-align: right;\n",
       "    }\n",
       "</style>\n",
       "<table border=\"1\" class=\"dataframe\">\n",
       "  <thead>\n",
       "    <tr style=\"text-align: right;\">\n",
       "      <th></th>\n",
       "      <th>fl_date</th>\n",
       "      <th>origin</th>\n",
       "      <th>dest</th>\n",
       "      <th>distance</th>\n",
       "      <th>taxi_time</th>\n",
       "      <th>actual_elapsed_time</th>\n",
       "      <th>origin_delay_airport</th>\n",
       "      <th>dest_delay_airport</th>\n",
       "      <th>arr_delay</th>\n",
       "      <th>origin_delays</th>\n",
       "      <th>origin_delay</th>\n",
       "      <th>dest_delay</th>\n",
       "      <th>delay_by_month</th>\n",
       "      <th>delay_by_day</th>\n",
       "    </tr>\n",
       "  </thead>\n",
       "  <tbody>\n",
       "    <tr>\n",
       "      <th>0</th>\n",
       "      <td>2019-05-19</td>\n",
       "      <td>MCI</td>\n",
       "      <td>AUS</td>\n",
       "      <td>650.0</td>\n",
       "      <td>6.0</td>\n",
       "      <td>105.0</td>\n",
       "      <td>MCI</td>\n",
       "      <td>AUS</td>\n",
       "      <td>-9.0</td>\n",
       "      <td>0.813154</td>\n",
       "      <td>0.813154</td>\n",
       "      <td>1.996324</td>\n",
       "      <td>6.123189</td>\n",
       "      <td>6.025008</td>\n",
       "    </tr>\n",
       "    <tr>\n",
       "      <th>1</th>\n",
       "      <td>2018-04-07</td>\n",
       "      <td>PHL</td>\n",
       "      <td>MCO</td>\n",
       "      <td>861.0</td>\n",
       "      <td>-5.0</td>\n",
       "      <td>163.0</td>\n",
       "      <td>PHL</td>\n",
       "      <td>MCO</td>\n",
       "      <td>-7.0</td>\n",
       "      <td>5.809959</td>\n",
       "      <td>5.809959</td>\n",
       "      <td>7.487434</td>\n",
       "      <td>4.164554</td>\n",
       "      <td>4.668227</td>\n",
       "    </tr>\n",
       "    <tr>\n",
       "      <th>2</th>\n",
       "      <td>2018-01-01</td>\n",
       "      <td>DCA</td>\n",
       "      <td>CAE</td>\n",
       "      <td>408.0</td>\n",
       "      <td>10.0</td>\n",
       "      <td>87.0</td>\n",
       "      <td>DCA</td>\n",
       "      <td>CAE</td>\n",
       "      <td>53.0</td>\n",
       "      <td>5.816488</td>\n",
       "      <td>5.816488</td>\n",
       "      <td>8.679389</td>\n",
       "      <td>3.394647</td>\n",
       "      <td>4.816586</td>\n",
       "    </tr>\n",
       "    <tr>\n",
       "      <th>3</th>\n",
       "      <td>2018-01-07</td>\n",
       "      <td>SGF</td>\n",
       "      <td>IAH</td>\n",
       "      <td>513.0</td>\n",
       "      <td>4.0</td>\n",
       "      <td>107.0</td>\n",
       "      <td>SGF</td>\n",
       "      <td>IAH</td>\n",
       "      <td>1.0</td>\n",
       "      <td>11.879032</td>\n",
       "      <td>11.879032</td>\n",
       "      <td>8.660893</td>\n",
       "      <td>3.394647</td>\n",
       "      <td>4.668227</td>\n",
       "    </tr>\n",
       "    <tr>\n",
       "      <th>4</th>\n",
       "      <td>2019-05-08</td>\n",
       "      <td>SLC</td>\n",
       "      <td>PHX</td>\n",
       "      <td>507.0</td>\n",
       "      <td>14.0</td>\n",
       "      <td>93.0</td>\n",
       "      <td>SLC</td>\n",
       "      <td>PHX</td>\n",
       "      <td>-12.0</td>\n",
       "      <td>1.295573</td>\n",
       "      <td>1.295573</td>\n",
       "      <td>5.465170</td>\n",
       "      <td>6.123189</td>\n",
       "      <td>6.845741</td>\n",
       "    </tr>\n",
       "    <tr>\n",
       "      <th>...</th>\n",
       "      <td>...</td>\n",
       "      <td>...</td>\n",
       "      <td>...</td>\n",
       "      <td>...</td>\n",
       "      <td>...</td>\n",
       "      <td>...</td>\n",
       "      <td>...</td>\n",
       "      <td>...</td>\n",
       "      <td>...</td>\n",
       "      <td>...</td>\n",
       "      <td>...</td>\n",
       "      <td>...</td>\n",
       "      <td>...</td>\n",
       "      <td>...</td>\n",
       "    </tr>\n",
       "    <tr>\n",
       "      <th>98001</th>\n",
       "      <td>2018-03-14</td>\n",
       "      <td>TUS</td>\n",
       "      <td>MDW</td>\n",
       "      <td>1440.0</td>\n",
       "      <td>3.0</td>\n",
       "      <td>189.0</td>\n",
       "      <td>TUS</td>\n",
       "      <td>MDW</td>\n",
       "      <td>-10.0</td>\n",
       "      <td>0.395918</td>\n",
       "      <td>0.395918</td>\n",
       "      <td>2.467472</td>\n",
       "      <td>2.197540</td>\n",
       "      <td>5.106019</td>\n",
       "    </tr>\n",
       "    <tr>\n",
       "      <th>98002</th>\n",
       "      <td>2018-02-28</td>\n",
       "      <td>ALB</td>\n",
       "      <td>MCO</td>\n",
       "      <td>1073.0</td>\n",
       "      <td>7.0</td>\n",
       "      <td>159.0</td>\n",
       "      <td>ALB</td>\n",
       "      <td>MCO</td>\n",
       "      <td>-20.0</td>\n",
       "      <td>2.696429</td>\n",
       "      <td>2.696429</td>\n",
       "      <td>7.487434</td>\n",
       "      <td>6.120882</td>\n",
       "      <td>4.031586</td>\n",
       "    </tr>\n",
       "    <tr>\n",
       "      <th>98003</th>\n",
       "      <td>2018-03-17</td>\n",
       "      <td>LAS</td>\n",
       "      <td>CLT</td>\n",
       "      <td>1916.0</td>\n",
       "      <td>8.0</td>\n",
       "      <td>220.0</td>\n",
       "      <td>LAS</td>\n",
       "      <td>CLT</td>\n",
       "      <td>17.0</td>\n",
       "      <td>3.668244</td>\n",
       "      <td>3.668244</td>\n",
       "      <td>2.815619</td>\n",
       "      <td>2.197540</td>\n",
       "      <td>5.666029</td>\n",
       "    </tr>\n",
       "    <tr>\n",
       "      <th>98004</th>\n",
       "      <td>2018-09-09</td>\n",
       "      <td>ATL</td>\n",
       "      <td>LAX</td>\n",
       "      <td>1947.0</td>\n",
       "      <td>4.0</td>\n",
       "      <td>274.0</td>\n",
       "      <td>ATL</td>\n",
       "      <td>LAX</td>\n",
       "      <td>-10.0</td>\n",
       "      <td>2.446831</td>\n",
       "      <td>2.446831</td>\n",
       "      <td>2.834677</td>\n",
       "      <td>1.452672</td>\n",
       "      <td>6.438135</td>\n",
       "    </tr>\n",
       "    <tr>\n",
       "      <th>98005</th>\n",
       "      <td>2019-08-23</td>\n",
       "      <td>CLT</td>\n",
       "      <td>SAV</td>\n",
       "      <td>213.0</td>\n",
       "      <td>11.0</td>\n",
       "      <td>59.0</td>\n",
       "      <td>CLT</td>\n",
       "      <td>SAV</td>\n",
       "      <td>-14.0</td>\n",
       "      <td>6.482493</td>\n",
       "      <td>6.482493</td>\n",
       "      <td>5.905660</td>\n",
       "      <td>8.608324</td>\n",
       "      <td>3.932198</td>\n",
       "    </tr>\n",
       "  </tbody>\n",
       "</table>\n",
       "<p>98006 rows × 14 columns</p>\n",
       "</div>"
      ],
      "text/plain": [
       "          fl_date origin dest  distance  taxi_time  actual_elapsed_time  \\\n",
       "0      2019-05-19    MCI  AUS     650.0        6.0                105.0   \n",
       "1      2018-04-07    PHL  MCO     861.0       -5.0                163.0   \n",
       "2      2018-01-01    DCA  CAE     408.0       10.0                 87.0   \n",
       "3      2018-01-07    SGF  IAH     513.0        4.0                107.0   \n",
       "4      2019-05-08    SLC  PHX     507.0       14.0                 93.0   \n",
       "...           ...    ...  ...       ...        ...                  ...   \n",
       "98001  2018-03-14    TUS  MDW    1440.0        3.0                189.0   \n",
       "98002  2018-02-28    ALB  MCO    1073.0        7.0                159.0   \n",
       "98003  2018-03-17    LAS  CLT    1916.0        8.0                220.0   \n",
       "98004  2018-09-09    ATL  LAX    1947.0        4.0                274.0   \n",
       "98005  2019-08-23    CLT  SAV     213.0       11.0                 59.0   \n",
       "\n",
       "      origin_delay_airport dest_delay_airport  arr_delay  origin_delays  \\\n",
       "0                      MCI                AUS       -9.0       0.813154   \n",
       "1                      PHL                MCO       -7.0       5.809959   \n",
       "2                      DCA                CAE       53.0       5.816488   \n",
       "3                      SGF                IAH        1.0      11.879032   \n",
       "4                      SLC                PHX      -12.0       1.295573   \n",
       "...                    ...                ...        ...            ...   \n",
       "98001                  TUS                MDW      -10.0       0.395918   \n",
       "98002                  ALB                MCO      -20.0       2.696429   \n",
       "98003                  LAS                CLT       17.0       3.668244   \n",
       "98004                  ATL                LAX      -10.0       2.446831   \n",
       "98005                  CLT                SAV      -14.0       6.482493   \n",
       "\n",
       "       origin_delay  dest_delay  delay_by_month  delay_by_day  \n",
       "0          0.813154    1.996324        6.123189      6.025008  \n",
       "1          5.809959    7.487434        4.164554      4.668227  \n",
       "2          5.816488    8.679389        3.394647      4.816586  \n",
       "3         11.879032    8.660893        3.394647      4.668227  \n",
       "4          1.295573    5.465170        6.123189      6.845741  \n",
       "...             ...         ...             ...           ...  \n",
       "98001      0.395918    2.467472        2.197540      5.106019  \n",
       "98002      2.696429    7.487434        6.120882      4.031586  \n",
       "98003      3.668244    2.815619        2.197540      5.666029  \n",
       "98004      2.446831    2.834677        1.452672      6.438135  \n",
       "98005      6.482493    5.905660        8.608324      3.932198  \n",
       "\n",
       "[98006 rows x 14 columns]"
      ]
     },
     "execution_count": 51,
     "metadata": {},
     "output_type": "execute_result"
    }
   ],
   "source": [
    "df"
   ]
  },
  {
   "cell_type": "code",
   "execution_count": 53,
   "metadata": {},
   "outputs": [
    {
     "name": "stdout",
     "output_type": "stream",
     "text": [
      "Index(['arr_delay', 'origin_delays'], dtype='object')\n",
      "train-set size:  68604 \n",
      "test-set size:  29402\n",
      "Mean Absolute Error:  24.501180025496637\n",
      "R2:  -0.007128889004163641\n",
      "Max Error:  1197.229046921227\n"
     ]
    }
   ],
   "source": [
    "#Tree1\n",
    "data1 = ['fl_date','origin','dest','distance','actual_elapsed_time','origin_delay_airport','dest_delay_airport','taxi_time','origin_delay','dest_delay','delay_by_month','delay_by_day']\n",
    "X_train, X_test, y_train, y_test = split_data(df, data1)\n",
    "y_pred = get_predictions(RandomForestRegressor(), X_train, y_train, X_test)\n",
    "print_scores(y_test,y_pred)"
   ]
  },
  {
   "cell_type": "code",
   "execution_count": 26,
   "metadata": {},
   "outputs": [
    {
     "name": "stdout",
     "output_type": "stream",
     "text": [
      "Index(['arr_delay', 'origin_delays', 'origin_delay', 'dest_delay',\n",
      "       'delay_by_month', 'delay_by_day'],\n",
      "      dtype='object')\n",
      "train-set size:  68604 \n",
      "test-set size:  29402\n",
      "Mean Absolute Error:  27.7817868257016\n",
      "R2:  -0.16987028673113702\n",
      "Max Error:  1167.68\n"
     ]
    }
   ],
   "source": [
    "#Tree2 - took out calculated averages\n",
    "data2 = ['fl_date','origin','dest','distance','actual_elapsed_time','origin_delay_airport','dest_delay_airport','taxi_time']\n",
    "X_train, X_test, y_train, y_test = split_data(df, data2)\n",
    "y_pred = get_predictions(RandomForestRegressor(), X_train, y_train, X_test)\n",
    "print_scores(y_test,y_pred)"
   ]
  },
  {
   "cell_type": "code",
   "execution_count": 43,
   "metadata": {},
   "outputs": [
    {
     "name": "stdout",
     "output_type": "stream",
     "text": [
      "Index(['arr_delay', 'origin_delays', 'origin_delay', 'dest_delay',\n",
      "       'delay_by_month', 'delay_by_day'],\n",
      "      dtype='object')\n",
      "train-set size:  68604 \n",
      "test-set size:  29402\n",
      "Mean Absolute Error:  27.764312896240135\n",
      "R2:  -0.16595190888769173\n",
      "Max Error:  1181.79\n"
     ]
    }
   ],
   "source": [
    "#Tree3 - removed redundancy\n",
    "data3 = ['origin','dest','distance','actual_elapsed_time','origin_delay_airport','dest_delay_airport']\n",
    "X_train, X_test, y_train, y_test = split_data(df, data2)\n",
    "y_pred = get_predictions(RandomForestRegressor(), X_train, y_train, X_test)\n",
    "print_scores(y_test,y_pred)"
   ]
  },
  {
   "cell_type": "code",
   "execution_count": 58,
   "metadata": {},
   "outputs": [
    {
     "name": "stdout",
     "output_type": "stream",
     "text": [
      "Index(['arr_delay', 'origin_delays'], dtype='object')\n",
      "train-set size:  68604 \n",
      "test-set size:  29402\n",
      "Mean Absolute Error:  24.365087054283006\n",
      "R2:  0.0047212075254682295\n",
      "Max Error:  1195.7473130023247\n"
     ]
    }
   ],
   "source": [
    "#LinearReg\n",
    "X_train, X_test, y_train, y_test = split_data(df, data1)\n",
    "y_pred = get_predictions(LinearRegression(), X_train, y_train, X_test)\n",
    "print_scores(y_test,y_pred)"
   ]
  },
  {
   "cell_type": "code",
   "execution_count": 28,
   "metadata": {},
   "outputs": [
    {
     "name": "stdout",
     "output_type": "stream",
     "text": [
      "Index(['arr_delay', 'origin_delays'], dtype='object')\n",
      "train-set size:  68604 \n",
      "test-set size:  29402\n",
      "Mean Absolute Error:  258.6155023467791\n",
      "R2:  -47.37626548344507\n",
      "Max Error:  1561.0\n"
     ]
    }
   ],
   "source": [
    "#Gaussian1\n",
    "X_train, X_test, y_train, y_test = split_data(df, data1)\n",
    "y_pred = get_predictions(GaussianNB(), X_train, y_train, X_test)\n",
    "print_scores(y_test,y_pred)"
   ]
  },
  {
   "cell_type": "code",
   "execution_count": 34,
   "metadata": {},
   "outputs": [
    {
     "name": "stdout",
     "output_type": "stream",
     "text": [
      "Index(['arr_delay', 'origin_delays', 'origin_delay', 'dest_delay',\n",
      "       'delay_by_month', 'delay_by_day'],\n",
      "      dtype='object')\n",
      "train-set size:  68604 \n",
      "test-set size:  29402\n",
      "Mean Absolute Error:  55.90180940072104\n",
      "R2:  -5.271023234136759\n",
      "Max Error:  1210.0\n"
     ]
    }
   ],
   "source": [
    "#Gaussian2\n",
    "X_train, X_test, y_train, y_test = split_data(df, data2)\n",
    "y_pred = get_predictions(GaussianNB(), X_train, y_train, X_test)\n",
    "print_scores(y_test,y_pred)"
   ]
  },
  {
   "cell_type": "code",
   "execution_count": null,
   "metadata": {},
   "outputs": [],
   "source": [
    "#Gaussian3 - Do not understand such weird error, but pretty bad results\n",
    "X_train, X_test, y_train, y_test = split_data(df, data3)\n",
    "y_pred = get_predictions(GaussianNB(), X_train, y_train, X_test)\n",
    "print_scores(y_test,y_pred)"
   ]
  },
  {
   "cell_type": "code",
   "execution_count": 40,
   "metadata": {},
   "outputs": [
    {
     "name": "stdout",
     "output_type": "stream",
     "text": [
      "Index(['arr_delay', 'origin_delays'], dtype='object')\n",
      "train-set size:  68604 \n",
      "test-set size:  29402\n",
      "Mean Absolute Error:  24.327206199124777\n",
      "R2:  0.0055436662994825525\n",
      "Max Error:  1197.352\n"
     ]
    }
   ],
   "source": [
    "# KNN1\n",
    "X_train, X_test, y_train, y_test = split_data(df, data1)\n",
    "y_pred = get_predictions(KNeighborsRegressor(n_neighbors=2000), X_train, y_train, X_test)\n",
    "print_scores(y_test,y_pred)"
   ]
  },
  {
   "cell_type": "code",
   "execution_count": 41,
   "metadata": {},
   "outputs": [
    {
     "name": "stdout",
     "output_type": "stream",
     "text": [
      "Index(['arr_delay', 'origin_delays', 'origin_delay', 'dest_delay',\n",
      "       'delay_by_month', 'delay_by_day'],\n",
      "      dtype='object')\n",
      "train-set size:  68604 \n",
      "test-set size:  29402\n",
      "Mean Absolute Error:  24.006139242228418\n",
      "R2:  0.01648696362742441\n",
      "Max Error:  1188.0055\n"
     ]
    }
   ],
   "source": [
    "# KNN2\n",
    "X_train, X_test, y_train, y_test = split_data(df, data2)\n",
    "y_pred = get_predictions(KNeighborsRegressor(n_neighbors=2000), X_train, y_train, X_test)\n",
    "print_scores(y_test,y_pred)"
   ]
  },
  {
   "cell_type": "code",
   "execution_count": null,
   "metadata": {},
   "outputs": [],
   "source": [
    "# KNN3\n",
    "X_train, X_test, y_train, y_test = split_data(df, data3)\n",
    "y_pred = get_predictions(KNeighborsRegressor(n_neighbors=2000), X_train, y_train, X_test)\n",
    "print_scores(y_test,y_pred)"
   ]
  },
  {
   "cell_type": "code",
   "execution_count": 56,
   "metadata": {},
   "outputs": [
    {
     "name": "stdout",
     "output_type": "stream",
     "text": [
      "Index(['arr_delay', 'origin_delays'], dtype='object')\n",
      "train-set size:  68604 \n",
      "test-set size:  29402\n",
      "Mean Absolute Error:  24.365086901731058\n",
      "R2:  0.004721211039422135\n",
      "Max Error:  1195.7473156055823\n"
     ]
    }
   ],
   "source": [
    "#Ridge best result \n",
    "X_train, X_test, y_train, y_test = split_data(df, data1)\n",
    "y_pred = get_predictions(Ridge(alpha=1), X_train, y_train, X_test)\n",
    "print_scores(y_test,y_pred)"
   ]
  },
  {
   "cell_type": "code",
   "execution_count": 57,
   "metadata": {},
   "outputs": [
    {
     "name": "stdout",
     "output_type": "stream",
     "text": [
      "Index(['arr_delay', 'origin_delays'], dtype='object')\n",
      "train-set size:  68604 \n",
      "test-set size:  29402\n",
      "[19:39:46] WARNING: /Users/runner/work/xgboost/xgboost/python-package/build/temp.macosx-10.9-x86_64-3.7/xgboost/src/objective/regression_obj.cu:203: reg:linear is now deprecated in favor of reg:squarederror.\n",
      "Mean Absolute Error:  24.101621574268446\n",
      "R2:  0.0027928185228006663\n",
      "Max Error:  1197.282401561737\n"
     ]
    }
   ],
   "source": [
    "#xgboost \n",
    "X_train, X_test, y_train, y_test = split_data(df, data1)\n",
    "y_pred = get_predictions(xgb.XGBRegressor(objective ='reg:linear', colsample_bytree = 0.3, learning_rate = 0.1,\n",
    "                max_depth = 3, alpha = 1, n_estimators = 20), X_train, y_train, X_test)\n",
    "print_scores(y_test,y_pred)"
   ]
  },
  {
   "cell_type": "code",
   "execution_count": null,
   "metadata": {},
   "outputs": [],
   "source": []
  }
 ],
 "metadata": {
  "interpreter": {
   "hash": "c11202d2846b22eec7deaf37ea813ba92a5f75b5344a4d16688175855af7948e"
  },
  "kernelspec": {
   "display_name": "Python 3.9.10 ('base')",
   "language": "python",
   "name": "python3"
  },
  "language_info": {
   "codemirror_mode": {
    "name": "ipython",
    "version": 3
   },
   "file_extension": ".py",
   "mimetype": "text/x-python",
   "name": "python",
   "nbconvert_exporter": "python",
   "pygments_lexer": "ipython3",
   "version": "3.9.10"
  },
  "orig_nbformat": 4
 },
 "nbformat": 4,
 "nbformat_minor": 2
}
