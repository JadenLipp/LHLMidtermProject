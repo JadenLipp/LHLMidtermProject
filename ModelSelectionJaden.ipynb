{
 "cells": [
  {
   "cell_type": "code",
   "execution_count": 18,
   "id": "ba10eb25-563a-46c6-b67a-764834e906ad",
   "metadata": {},
   "outputs": [],
   "source": [
    "#This workbook is my first attempt at modeling my cleaned data from modeling_Jaden"
   ]
  },
  {
   "cell_type": "code",
   "execution_count": 19,
   "id": "9f41911f-5e44-49bd-84fd-eedc334f7374",
   "metadata": {},
   "outputs": [],
   "source": [
    "import pandas as pd\n",
    "import numpy as np\n",
    "from sklearn.metrics import mean_absolute_error\n",
    "from sklearn.metrics import r2_score\n",
    "from sklearn.metrics import max_error\n",
    "from sklearn.linear_model import LinearRegression, LogisticRegression\n",
    "from sklearn.ensemble import RandomForestRegressor\n",
    "from sklearn.naive_bayes import GaussianNB\n",
    "import xgboost as xgb"
   ]
  },
  {
   "cell_type": "code",
   "execution_count": 20,
   "id": "a0cec7f5-488e-465d-bc74-4c1b536c267b",
   "metadata": {},
   "outputs": [
    {
     "data": {
      "text/html": [
       "<div>\n",
       "<style scoped>\n",
       "    .dataframe tbody tr th:only-of-type {\n",
       "        vertical-align: middle;\n",
       "    }\n",
       "\n",
       "    .dataframe tbody tr th {\n",
       "        vertical-align: top;\n",
       "    }\n",
       "\n",
       "    .dataframe thead th {\n",
       "        text-align: right;\n",
       "    }\n",
       "</style>\n",
       "<table border=\"1\" class=\"dataframe\">\n",
       "  <thead>\n",
       "    <tr style=\"text-align: right;\">\n",
       "      <th></th>\n",
       "      <th>fl_date</th>\n",
       "      <th>origin_city_name</th>\n",
       "      <th>dest_city_name</th>\n",
       "      <th>dep_time</th>\n",
       "      <th>dep_delay</th>\n",
       "      <th>taxi_out</th>\n",
       "      <th>taxi_in</th>\n",
       "      <th>arr_time</th>\n",
       "      <th>arr_delay</th>\n",
       "      <th>actual_elapsed_time</th>\n",
       "      <th>air_time</th>\n",
       "      <th>distance</th>\n",
       "      <th>avg_delay_carrier</th>\n",
       "      <th>origindelays</th>\n",
       "      <th>taildelays</th>\n",
       "      <th>destdelays</th>\n",
       "    </tr>\n",
       "  </thead>\n",
       "  <tbody>\n",
       "    <tr>\n",
       "      <th>0</th>\n",
       "      <td>2019-12-29</td>\n",
       "      <td>Bend/Redmond, OR</td>\n",
       "      <td>Los Angeles, CA</td>\n",
       "      <td>626.0</td>\n",
       "      <td>26.0</td>\n",
       "      <td>27.0</td>\n",
       "      <td>44.0</td>\n",
       "      <td>922.0</td>\n",
       "      <td>54.0</td>\n",
       "      <td>176.0</td>\n",
       "      <td>105.0</td>\n",
       "      <td>726.0</td>\n",
       "      <td>6.891671</td>\n",
       "      <td>11.613445</td>\n",
       "      <td>-0.636364</td>\n",
       "      <td>2.957704</td>\n",
       "    </tr>\n",
       "    <tr>\n",
       "      <th>1</th>\n",
       "      <td>2018-03-30</td>\n",
       "      <td>Detroit, MI</td>\n",
       "      <td>Atlanta, GA</td>\n",
       "      <td>2115.0</td>\n",
       "      <td>4.0</td>\n",
       "      <td>10.0</td>\n",
       "      <td>9.0</td>\n",
       "      <td>2313.0</td>\n",
       "      <td>-2.0</td>\n",
       "      <td>118.0</td>\n",
       "      <td>99.0</td>\n",
       "      <td>594.0</td>\n",
       "      <td>4.832506</td>\n",
       "      <td>2.926685</td>\n",
       "      <td>1.100000</td>\n",
       "      <td>2.985783</td>\n",
       "    </tr>\n",
       "    <tr>\n",
       "      <th>2</th>\n",
       "      <td>2019-02-24</td>\n",
       "      <td>Denver, CO</td>\n",
       "      <td>Tampa, FL</td>\n",
       "      <td>1642.0</td>\n",
       "      <td>2.0</td>\n",
       "      <td>11.0</td>\n",
       "      <td>5.0</td>\n",
       "      <td>2145.0</td>\n",
       "      <td>-10.0</td>\n",
       "      <td>183.0</td>\n",
       "      <td>167.0</td>\n",
       "      <td>1506.0</td>\n",
       "      <td>3.896911</td>\n",
       "      <td>8.697905</td>\n",
       "      <td>-1.300000</td>\n",
       "      <td>2.579281</td>\n",
       "    </tr>\n",
       "    <tr>\n",
       "      <th>3</th>\n",
       "      <td>2019-07-16</td>\n",
       "      <td>Anchorage, AK</td>\n",
       "      <td>Seattle, WA</td>\n",
       "      <td>145.0</td>\n",
       "      <td>10.0</td>\n",
       "      <td>7.0</td>\n",
       "      <td>19.0</td>\n",
       "      <td>604.0</td>\n",
       "      <td>-1.0</td>\n",
       "      <td>199.0</td>\n",
       "      <td>173.0</td>\n",
       "      <td>1448.0</td>\n",
       "      <td>0.468218</td>\n",
       "      <td>-4.577947</td>\n",
       "      <td>-1.444444</td>\n",
       "      <td>3.655560</td>\n",
       "    </tr>\n",
       "    <tr>\n",
       "      <th>4</th>\n",
       "      <td>2019-03-23</td>\n",
       "      <td>Norfolk, VA</td>\n",
       "      <td>New York, NY</td>\n",
       "      <td>1119.0</td>\n",
       "      <td>27.0</td>\n",
       "      <td>25.0</td>\n",
       "      <td>4.0</td>\n",
       "      <td>1248.0</td>\n",
       "      <td>20.0</td>\n",
       "      <td>89.0</td>\n",
       "      <td>60.0</td>\n",
       "      <td>296.0</td>\n",
       "      <td>6.891671</td>\n",
       "      <td>7.924581</td>\n",
       "      <td>8.652174</td>\n",
       "      <td>10.855550</td>\n",
       "    </tr>\n",
       "    <tr>\n",
       "      <th>...</th>\n",
       "      <td>...</td>\n",
       "      <td>...</td>\n",
       "      <td>...</td>\n",
       "      <td>...</td>\n",
       "      <td>...</td>\n",
       "      <td>...</td>\n",
       "      <td>...</td>\n",
       "      <td>...</td>\n",
       "      <td>...</td>\n",
       "      <td>...</td>\n",
       "      <td>...</td>\n",
       "      <td>...</td>\n",
       "      <td>...</td>\n",
       "      <td>...</td>\n",
       "      <td>...</td>\n",
       "      <td>...</td>\n",
       "    </tr>\n",
       "    <tr>\n",
       "      <th>98035</th>\n",
       "      <td>2018-09-04</td>\n",
       "      <td>Raleigh/Durham, NC</td>\n",
       "      <td>Fort Lauderdale, FL</td>\n",
       "      <td>656.0</td>\n",
       "      <td>-4.0</td>\n",
       "      <td>15.0</td>\n",
       "      <td>5.0</td>\n",
       "      <td>854.0</td>\n",
       "      <td>-9.0</td>\n",
       "      <td>118.0</td>\n",
       "      <td>98.0</td>\n",
       "      <td>680.0</td>\n",
       "      <td>11.109981</td>\n",
       "      <td>10.962712</td>\n",
       "      <td>9.315789</td>\n",
       "      <td>9.222041</td>\n",
       "    </tr>\n",
       "    <tr>\n",
       "      <th>98036</th>\n",
       "      <td>2018-11-05</td>\n",
       "      <td>Los Angeles, CA</td>\n",
       "      <td>Denver, CO</td>\n",
       "      <td>1330.0</td>\n",
       "      <td>-5.0</td>\n",
       "      <td>11.0</td>\n",
       "      <td>4.0</td>\n",
       "      <td>1636.0</td>\n",
       "      <td>-12.0</td>\n",
       "      <td>126.0</td>\n",
       "      <td>111.0</td>\n",
       "      <td>862.0</td>\n",
       "      <td>9.058796</td>\n",
       "      <td>1.860914</td>\n",
       "      <td>-2.600000</td>\n",
       "      <td>4.462143</td>\n",
       "    </tr>\n",
       "    <tr>\n",
       "      <th>98037</th>\n",
       "      <td>2018-01-18</td>\n",
       "      <td>Salt Lake City, UT</td>\n",
       "      <td>Las Vegas, NV</td>\n",
       "      <td>1645.0</td>\n",
       "      <td>-5.0</td>\n",
       "      <td>11.0</td>\n",
       "      <td>10.0</td>\n",
       "      <td>1703.0</td>\n",
       "      <td>-21.0</td>\n",
       "      <td>78.0</td>\n",
       "      <td>57.0</td>\n",
       "      <td>368.0</td>\n",
       "      <td>2.489861</td>\n",
       "      <td>2.077253</td>\n",
       "      <td>-13.458333</td>\n",
       "      <td>4.809410</td>\n",
       "    </tr>\n",
       "    <tr>\n",
       "      <th>98038</th>\n",
       "      <td>2018-10-31</td>\n",
       "      <td>Fort Smith, AR</td>\n",
       "      <td>Atlanta, GA</td>\n",
       "      <td>1519.0</td>\n",
       "      <td>-11.0</td>\n",
       "      <td>9.0</td>\n",
       "      <td>11.0</td>\n",
       "      <td>1757.0</td>\n",
       "      <td>-8.0</td>\n",
       "      <td>98.0</td>\n",
       "      <td>78.0</td>\n",
       "      <td>579.0</td>\n",
       "      <td>2.489861</td>\n",
       "      <td>34.129032</td>\n",
       "      <td>-1.200000</td>\n",
       "      <td>2.985783</td>\n",
       "    </tr>\n",
       "    <tr>\n",
       "      <th>98039</th>\n",
       "      <td>2018-08-29</td>\n",
       "      <td>Alexandria, LA</td>\n",
       "      <td>Atlanta, GA</td>\n",
       "      <td>556.0</td>\n",
       "      <td>-4.0</td>\n",
       "      <td>13.0</td>\n",
       "      <td>8.0</td>\n",
       "      <td>836.0</td>\n",
       "      <td>-15.0</td>\n",
       "      <td>100.0</td>\n",
       "      <td>79.0</td>\n",
       "      <td>500.0</td>\n",
       "      <td>2.489861</td>\n",
       "      <td>10.916667</td>\n",
       "      <td>-7.916667</td>\n",
       "      <td>2.985783</td>\n",
       "    </tr>\n",
       "  </tbody>\n",
       "</table>\n",
       "<p>98040 rows × 16 columns</p>\n",
       "</div>"
      ],
      "text/plain": [
       "          fl_date    origin_city_name       dest_city_name  dep_time  \\\n",
       "0      2019-12-29    Bend/Redmond, OR      Los Angeles, CA     626.0   \n",
       "1      2018-03-30         Detroit, MI          Atlanta, GA    2115.0   \n",
       "2      2019-02-24          Denver, CO            Tampa, FL    1642.0   \n",
       "3      2019-07-16       Anchorage, AK          Seattle, WA     145.0   \n",
       "4      2019-03-23         Norfolk, VA         New York, NY    1119.0   \n",
       "...           ...                 ...                  ...       ...   \n",
       "98035  2018-09-04  Raleigh/Durham, NC  Fort Lauderdale, FL     656.0   \n",
       "98036  2018-11-05     Los Angeles, CA           Denver, CO    1330.0   \n",
       "98037  2018-01-18  Salt Lake City, UT        Las Vegas, NV    1645.0   \n",
       "98038  2018-10-31      Fort Smith, AR          Atlanta, GA    1519.0   \n",
       "98039  2018-08-29      Alexandria, LA          Atlanta, GA     556.0   \n",
       "\n",
       "       dep_delay  taxi_out  taxi_in  arr_time  arr_delay  actual_elapsed_time  \\\n",
       "0           26.0      27.0     44.0     922.0       54.0                176.0   \n",
       "1            4.0      10.0      9.0    2313.0       -2.0                118.0   \n",
       "2            2.0      11.0      5.0    2145.0      -10.0                183.0   \n",
       "3           10.0       7.0     19.0     604.0       -1.0                199.0   \n",
       "4           27.0      25.0      4.0    1248.0       20.0                 89.0   \n",
       "...          ...       ...      ...       ...        ...                  ...   \n",
       "98035       -4.0      15.0      5.0     854.0       -9.0                118.0   \n",
       "98036       -5.0      11.0      4.0    1636.0      -12.0                126.0   \n",
       "98037       -5.0      11.0     10.0    1703.0      -21.0                 78.0   \n",
       "98038      -11.0       9.0     11.0    1757.0       -8.0                 98.0   \n",
       "98039       -4.0      13.0      8.0     836.0      -15.0                100.0   \n",
       "\n",
       "       air_time  distance  avg_delay_carrier  origindelays  taildelays  \\\n",
       "0         105.0     726.0           6.891671     11.613445   -0.636364   \n",
       "1          99.0     594.0           4.832506      2.926685    1.100000   \n",
       "2         167.0    1506.0           3.896911      8.697905   -1.300000   \n",
       "3         173.0    1448.0           0.468218     -4.577947   -1.444444   \n",
       "4          60.0     296.0           6.891671      7.924581    8.652174   \n",
       "...         ...       ...                ...           ...         ...   \n",
       "98035      98.0     680.0          11.109981     10.962712    9.315789   \n",
       "98036     111.0     862.0           9.058796      1.860914   -2.600000   \n",
       "98037      57.0     368.0           2.489861      2.077253  -13.458333   \n",
       "98038      78.0     579.0           2.489861     34.129032   -1.200000   \n",
       "98039      79.0     500.0           2.489861     10.916667   -7.916667   \n",
       "\n",
       "       destdelays  \n",
       "0        2.957704  \n",
       "1        2.985783  \n",
       "2        2.579281  \n",
       "3        3.655560  \n",
       "4       10.855550  \n",
       "...           ...  \n",
       "98035    9.222041  \n",
       "98036    4.462143  \n",
       "98037    4.809410  \n",
       "98038    2.985783  \n",
       "98039    2.985783  \n",
       "\n",
       "[98040 rows x 16 columns]"
      ]
     },
     "execution_count": 20,
     "metadata": {},
     "output_type": "execute_result"
    }
   ],
   "source": [
    "data = pd.read_csv('data')\n",
    "data"
   ]
  },
  {
   "cell_type": "code",
   "execution_count": 21,
   "id": "e426af6c-df2c-47bc-9795-7abf1a42ef15",
   "metadata": {},
   "outputs": [],
   "source": [
    "data = data.drop(columns=['taxi_out', 'taxi_in', 'air_time'])"
   ]
  },
  {
   "cell_type": "code",
   "execution_count": 22,
   "id": "584b7ea2-62f8-41a5-b840-7895653cec09",
   "metadata": {},
   "outputs": [],
   "source": [
    "data['arr_delay'] = data['arr_delay'].replace(np.NaN, 0)\n",
    "data['dep_delay'] = data['dep_delay'].replace(np.NaN, 0)"
   ]
  },
  {
   "cell_type": "code",
   "execution_count": 23,
   "id": "f92398aa-fd5d-4014-be27-36375b53149f",
   "metadata": {},
   "outputs": [
    {
     "data": {
      "text/plain": [
       "fl_date                0\n",
       "origin_city_name       0\n",
       "dest_city_name         0\n",
       "dep_time               0\n",
       "dep_delay              0\n",
       "arr_time               0\n",
       "arr_delay              0\n",
       "actual_elapsed_time    0\n",
       "distance               0\n",
       "avg_delay_carrier      0\n",
       "origindelays           0\n",
       "taildelays             0\n",
       "destdelays             0\n",
       "dtype: int64"
      ]
     },
     "execution_count": 23,
     "metadata": {},
     "output_type": "execute_result"
    }
   ],
   "source": [
    "data.isnull().sum()"
   ]
  },
  {
   "cell_type": "code",
   "execution_count": 24,
   "id": "976f73aa-37e4-4447-b59f-bffd2f713232",
   "metadata": {},
   "outputs": [],
   "source": [
    "#Now, it's time to split the data in test set (20%) and training set (80%)\n",
    "\n",
    "def split_data(df, drop_list):\n",
    "    df = df.drop(drop_list,axis=1)\n",
    "    print(df.columns)\n",
    "    #test train split time\n",
    "    from sklearn.model_selection import train_test_split\n",
    "    y = df['arr_delay'].values #target\n",
    "    X = df.drop(['arr_delay'],axis=1).values #features\n",
    "    X_train, X_test, y_train, y_test = train_test_split(X, y, test_size=0.2,\n",
    "                                                    random_state=42)\n",
    "\n",
    "    print(\"train-set size: \", len(y_train),\n",
    "      \"\\ntest-set size: \", len(y_test))\n",
    "    return X_train, X_test, y_train, y_test"
   ]
  },
  {
   "cell_type": "code",
   "execution_count": 56,
   "id": "9f9b0bc7-a816-4846-b78f-14d62c826257",
   "metadata": {},
   "outputs": [],
   "source": [
    "#Below is funtion to define classifier and get predictions. \n",
    "#We can use \"predict()\" method that checks whether the trained algorithm perfirds well on test data \n",
    "def get_predictions(clf, X_train, y_train, X_test):\n",
    "    # create classifier\n",
    "    clf = clf\n",
    "    # fit it to training data\n",
    "    clf.fit(X_train,y_train)\n",
    "    # predict using test data\n",
    "    y_pred = clf.predict(X_test)\n",
    "    return y_pred"
   ]
  },
  {
   "cell_type": "code",
   "execution_count": 26,
   "id": "c6a7e3d1-28ff-4dd4-a20d-d4023adec7d1",
   "metadata": {},
   "outputs": [],
   "source": [
    "#Function to print the regressor's scores\n",
    "def print_scores(y_test,y_pred):\n",
    "    print('Mean Absolute Error: ', mean_absolute_error(y_test, y_pred))\n",
    "    print('R2: ', r2_score(y_test, y_pred))\n",
    "    print('Max Error: ', max_error(y_test, y_pred))"
   ]
  },
  {
   "cell_type": "code",
   "execution_count": 27,
   "id": "a60d7514-7720-4646-a88e-8b99525095ba",
   "metadata": {},
   "outputs": [],
   "source": [
    "# scale/normalize\n",
    "\n",
    "#from sklearn.preprocessing import StandardScaler\n",
    "#from sklearn.preprocessing import Normalizer\n",
    "\n",
    "#scaling\n",
    "\n",
    "#scaler = StandardScaler()\n",
    "#scaler.fit(X)\n",
    "\n",
    "#X_scale = scaler.transform(X)"
   ]
  },
  {
   "cell_type": "code",
   "execution_count": 28,
   "id": "d40e224a-8bae-429a-afd2-7036923bf46c",
   "metadata": {},
   "outputs": [],
   "source": [
    "# Case-LogisticReg-1 : drop locations and departure times/delays...takes way too long\n",
    "#drop_list = ['fl_date','origin_city_name', 'dest_city_name', 'dep_time','dep_delay', 'arr_time']\n",
    "#X_train, X_test, y_train, y_test = split_data(data, drop_list)\n",
    "#y_pred = get_predictions(LogisticRegression(max_iter=10), X_train, y_train, X_test)\n",
    "#print_scores(y_test,y_pred)"
   ]
  },
  {
   "cell_type": "code",
   "execution_count": null,
   "id": "86cec96e-da46-49b6-9428-2005864ae00b",
   "metadata": {},
   "outputs": [],
   "source": []
  },
  {
   "cell_type": "code",
   "execution_count": 29,
   "id": "d42b4faf-ac4c-4fbe-a909-14c2c2390333",
   "metadata": {},
   "outputs": [
    {
     "name": "stdout",
     "output_type": "stream",
     "text": [
      "Index(['arr_delay', 'avg_delay_carrier', 'origindelays', 'taildelays',\n",
      "       'destdelays'],\n",
      "      dtype='object')\n",
      "train-set size:  78432 \n",
      "test-set size:  19608\n",
      "Mean Absolute Error:  27.10051230184537\n",
      "R2:  -0.09718229851509652\n",
      "Max Error:  1103.53\n"
     ]
    }
   ],
   "source": [
    "# Case-RandomForestRegressor-1 : drop locations and departure times/delays\n",
    "drop_list = ['fl_date','origin_city_name', 'dest_city_name', 'dep_time','dep_delay', 'arr_time','actual_elapsed_time', 'distance']\n",
    "X_train, X_test, y_train, y_test = split_data(data, drop_list)\n",
    "y_pred = get_predictions(RandomForestRegressor(), X_train, y_train, X_test)\n",
    "print_scores(y_test,y_pred)"
   ]
  },
  {
   "cell_type": "code",
   "execution_count": 30,
   "id": "51905dd7-7a32-4dc3-93ce-59fbd9c332a6",
   "metadata": {},
   "outputs": [
    {
     "name": "stdout",
     "output_type": "stream",
     "text": [
      "Index(['arr_delay', 'avg_delay_carrier', 'origindelays', 'taildelays',\n",
      "       'destdelays'],\n",
      "      dtype='object')\n",
      "train-set size:  78432 \n",
      "test-set size:  19608\n",
      "Mean Absolute Error:  24.584978223499302\n",
      "R2:  0.06775260554111717\n",
      "Max Error:  1117.4675105385468\n"
     ]
    }
   ],
   "source": [
    "# Case-RandomForestRegressor-2 : added max_depth=3 == best result\n",
    "drop_list = ['fl_date','origin_city_name', 'dest_city_name', 'dep_time','dep_delay', 'arr_time','actual_elapsed_time', 'distance']\n",
    "X_train, X_test, y_train, y_test = split_data(data, drop_list)\n",
    "y_pred = get_predictions(RandomForestRegressor(n_estimators=100, max_depth=3), X_train, y_train, X_test)\n",
    "print_scores(y_test,y_pred)"
   ]
  },
  {
   "cell_type": "code",
   "execution_count": 31,
   "id": "c10c40b4-cf69-4980-89c3-7ab8e02d8323",
   "metadata": {},
   "outputs": [
    {
     "name": "stdout",
     "output_type": "stream",
     "text": [
      "Index(['arr_delay', 'avg_delay_carrier', 'origindelays', 'destdelays'], dtype='object')\n",
      "train-set size:  78432 \n",
      "test-set size:  19608\n",
      "Mean Absolute Error:  24.914811709598837\n",
      "R2:  0.008413168810893268\n",
      "Max Error:  1153.0176480998707\n"
     ]
    }
   ],
   "source": [
    "# Case-RandomForestRegressor-3 : dropped 'tail_delays -> got worse\n",
    "drop_list = ['fl_date','origin_city_name', 'dest_city_name', 'dep_time','dep_delay', 'arr_time','actual_elapsed_time', 'distance','taildelays']\n",
    "X_train, X_test, y_train, y_test = split_data(data, drop_list)\n",
    "y_pred = get_predictions(RandomForestRegressor(n_estimators=100, max_depth=3), X_train, y_train, X_test)\n",
    "print_scores(y_test,y_pred)"
   ]
  },
  {
   "cell_type": "code",
   "execution_count": 32,
   "id": "86ce7a45-c818-4e0b-bc09-e345ea3f6a39",
   "metadata": {},
   "outputs": [
    {
     "name": "stdout",
     "output_type": "stream",
     "text": [
      "Index(['dep_delay', 'arr_delay', 'actual_elapsed_time', 'distance',\n",
      "       'avg_delay_carrier', 'origindelays', 'taildelays', 'destdelays'],\n",
      "      dtype='object')\n",
      "train-set size:  78432 \n",
      "test-set size:  19608\n",
      "Mean Absolute Error:  10.645631637430496\n",
      "R2:  0.908564562150671\n",
      "Max Error:  170.60376118663882\n"
     ]
    }
   ],
   "source": [
    "# Case-RandomForestRegressor-4: cheated by adding in dep_delay, looks like 'distance' and 'actual_elasped_time' don't change the result that much\n",
    "drop_list = ['fl_date','origin_city_name', 'dest_city_name', 'dep_time', 'arr_time']\n",
    "X_train, X_test, y_train, y_test = split_data(data, drop_list)\n",
    "y_pred = get_predictions(RandomForestRegressor(max_depth=3), X_train, y_train, X_test)\n",
    "print_scores(y_test,y_pred)"
   ]
  },
  {
   "cell_type": "code",
   "execution_count": 33,
   "id": "f96caa82-227e-4d8b-b0b7-8e1d76fac4fe",
   "metadata": {},
   "outputs": [
    {
     "name": "stdout",
     "output_type": "stream",
     "text": [
      "Index(['arr_delay', 'origindelays', 'taildelays', 'destdelays'], dtype='object')\n",
      "train-set size:  78432 \n",
      "test-set size:  19608\n",
      "Mean Absolute Error:  24.57366952822745\n",
      "R2:  0.06798976122857758\n",
      "Max Error:  1108.4775044762796\n"
     ]
    }
   ],
   "source": [
    "# Case-RandomForestRegressor-5 : dropped 'avg_delay_carrier' -> stayed the same\n",
    "drop_list = ['fl_date','origin_city_name', 'dest_city_name', 'dep_time','dep_delay', 'arr_time','actual_elapsed_time', 'distance','avg_delay_carrier']\n",
    "X_train, X_test, y_train, y_test = split_data(data, drop_list)\n",
    "y_pred = get_predictions(RandomForestRegressor(n_estimators=100, max_depth=3), X_train, y_train, X_test)\n",
    "print_scores(y_test,y_pred)"
   ]
  },
  {
   "cell_type": "code",
   "execution_count": null,
   "id": "2a46a354-435d-4605-b126-5a00da321c5c",
   "metadata": {},
   "outputs": [],
   "source": []
  },
  {
   "cell_type": "code",
   "execution_count": null,
   "id": "31a8c01e-168f-4df1-8c81-dbfe1e8adb66",
   "metadata": {},
   "outputs": [],
   "source": []
  },
  {
   "cell_type": "code",
   "execution_count": 34,
   "id": "24c3bc3f-ac93-4479-9e1e-9450a180061e",
   "metadata": {},
   "outputs": [
    {
     "name": "stdout",
     "output_type": "stream",
     "text": [
      "Index(['arr_delay', 'avg_delay_carrier', 'origindelays', 'taildelays',\n",
      "       'destdelays'],\n",
      "      dtype='object')\n",
      "train-set size:  78432 \n",
      "test-set size:  19608\n",
      "Mean Absolute Error:  95.25071399428805\n",
      "R2:  -10.747107193854276\n",
      "Max Error:  1210.0\n"
     ]
    }
   ],
   "source": [
    "# Case-GaussianNB-1 : drop locations and departure times/delays\n",
    "drop_list = ['fl_date','origin_city_name', 'dest_city_name', 'dep_time','dep_delay', 'arr_time','actual_elapsed_time', 'distance']\n",
    "X_train, X_test, y_train, y_test = split_data(data, drop_list)\n",
    "y_pred = get_predictions(GaussianNB(), X_train, y_train, X_test)\n",
    "print_scores(y_test,y_pred)"
   ]
  },
  {
   "cell_type": "code",
   "execution_count": null,
   "id": "864a7fc4-3647-432e-969e-d4919d3953c7",
   "metadata": {},
   "outputs": [],
   "source": []
  },
  {
   "cell_type": "code",
   "execution_count": 35,
   "id": "f638b832-df17-4f47-91c2-7ad5307965ee",
   "metadata": {},
   "outputs": [
    {
     "name": "stdout",
     "output_type": "stream",
     "text": [
      "Index(['arr_delay', 'avg_delay_carrier', 'origindelays', 'taildelays',\n",
      "       'destdelays'],\n",
      "      dtype='object')\n",
      "train-set size:  78432 \n",
      "test-set size:  19608\n",
      "Mean Absolute Error:  24.255547633618935\n",
      "R2:  0.07331938470735966\n",
      "Max Error:  1114.7\n"
     ]
    }
   ],
   "source": [
    "from sklearn.neighbors import KNeighborsRegressor\n",
    "# Case-KNeighborsClassifier-1: Does not perform as well\n",
    "drop_list = ['fl_date','origin_city_name', 'dest_city_name', 'dep_time','dep_delay', 'arr_time','actual_elapsed_time', 'distance']\n",
    "X_train, X_test, y_train, y_test = split_data(data, drop_list)\n",
    "y_pred = get_predictions(KNeighborsRegressor(n_neighbors=1500), X_train, y_train, X_test)\n",
    "print_scores(y_test,y_pred)"
   ]
  },
  {
   "cell_type": "code",
   "execution_count": null,
   "id": "8b748861-8a34-4f2b-9db4-98d5875cf9ea",
   "metadata": {},
   "outputs": [],
   "source": []
  },
  {
   "cell_type": "code",
   "execution_count": null,
   "id": "4ec2af0c-a330-469d-8ddd-6c838cc59c1e",
   "metadata": {},
   "outputs": [],
   "source": []
  },
  {
   "cell_type": "code",
   "execution_count": 37,
   "id": "96f9ce03-a574-404a-9563-5f43681d5e03",
   "metadata": {},
   "outputs": [
    {
     "name": "stdout",
     "output_type": "stream",
     "text": [
      "Index(['arr_delay', 'actual_elapsed_time', 'distance', 'avg_delay_carrier',\n",
      "       'origindelays', 'taildelays', 'destdelays'],\n",
      "      dtype='object')\n",
      "train-set size:  78432 \n",
      "test-set size:  19608\n",
      "Mean Absolute Error:  24.695060861348225\n",
      "R2:  0.05897589529832303\n",
      "Max Error:  1099.3959657363912\n"
     ]
    }
   ],
   "source": [
    "from sklearn.tree import DecisionTreeRegressor\n",
    "# Case-DecisionTreeRegressor: okay performance, worse than random tree\n",
    "drop_list = ['fl_date','origin_city_name', 'dest_city_name', 'dep_time','dep_delay', 'arr_time']\n",
    "X_train, X_test, y_train, y_test = split_data(data, drop_list)\n",
    "y_pred = get_predictions(DecisionTreeRegressor(max_depth=3), X_train, y_train, X_test)\n",
    "print_scores(y_test,y_pred)"
   ]
  },
  {
   "cell_type": "code",
   "execution_count": null,
   "id": "5a25bda4-80d9-489e-9ae0-2614d94ebb42",
   "metadata": {},
   "outputs": [],
   "source": []
  },
  {
   "cell_type": "code",
   "execution_count": 38,
   "id": "826da33e-1e5c-44ed-baf5-686dfde219a7",
   "metadata": {},
   "outputs": [
    {
     "name": "stdout",
     "output_type": "stream",
     "text": [
      "Index(['arr_delay', 'actual_elapsed_time', 'distance', 'avg_delay_carrier',\n",
      "       'origindelays', 'taildelays', 'destdelays'],\n",
      "      dtype='object')\n",
      "train-set size:  78432 \n",
      "test-set size:  19608\n",
      "Mean Absolute Error:  23.382343154810858\n",
      "R2:  0.12207353572902346\n",
      "Max Error:  1099.0849982481905\n"
     ]
    }
   ],
   "source": [
    "from sklearn.linear_model import Ridge\n",
    "# Case-Ridge-1: Best performer thus far, 0.122 R2!\n",
    "drop_list = ['fl_date','origin_city_name', 'dest_city_name', 'dep_time','dep_delay', 'arr_time']\n",
    "X_train, X_test, y_train, y_test = split_data(data, drop_list)\n",
    "y_pred = get_predictions(Ridge(alpha=1), X_train, y_train, X_test)\n",
    "print_scores(y_test,y_pred)"
   ]
  },
  {
   "cell_type": "code",
   "execution_count": null,
   "id": "0f71c913-48d5-4efe-b7fb-b09516962c6c",
   "metadata": {},
   "outputs": [],
   "source": []
  },
  {
   "cell_type": "code",
   "execution_count": null,
   "id": "05ab501e-162b-41f9-933a-2aa9813a13db",
   "metadata": {},
   "outputs": [],
   "source": []
  },
  {
   "cell_type": "code",
   "execution_count": 40,
   "id": "4426571b-d28e-432e-b944-ab58f2b660ac",
   "metadata": {},
   "outputs": [],
   "source": [
    "#takes way too long\n",
    "#from sklearn.svm import SVC\n",
    "# Case-SVC: \n",
    "#drop_list = ['fl_date','origin_city_name', 'dest_city_name', 'dep_time','dep_delay', 'arr_time']\n",
    "#X_train, X_test, y_train, y_test = split_data(data, drop_list)\n",
    "#y_pred = get_predictions(SVC(max_iter=2), X_train, y_train, X_test)\n",
    "#print_scores(y_test,y_pred)"
   ]
  },
  {
   "cell_type": "code",
   "execution_count": null,
   "id": "458fbb5c-31c3-4cda-a79f-23ae1f0de156",
   "metadata": {},
   "outputs": [],
   "source": []
  },
  {
   "cell_type": "code",
   "execution_count": null,
   "id": "101e2f4c-5cf5-4c9e-8a3c-7e631429a900",
   "metadata": {},
   "outputs": [],
   "source": []
  },
  {
   "cell_type": "code",
   "execution_count": 51,
   "id": "427e5088-e9dc-4b3a-a5ce-30a48bbf2a05",
   "metadata": {},
   "outputs": [
    {
     "name": "stdout",
     "output_type": "stream",
     "text": [
      "Index(['arr_delay', 'avg_delay_carrier', 'origindelays', 'taildelays',\n",
      "       'destdelays'],\n",
      "      dtype='object')\n",
      "train-set size:  78432 \n",
      "test-set size:  19608\n",
      "[20:41:15] WARNING: C:/Users/Administrator/workspace/xgboost-win64_release_1.6.0/src/objective/regression_obj.cu:203: reg:linear is now deprecated in favor of reg:squarederror.\n",
      "Mean Absolute Error:  24.154162556638994\n",
      "R2:  0.05514356540357812\n",
      "Max Error:  1130.4538192749023\n"
     ]
    }
   ],
   "source": [
    "# Case-XGBoost-1 : \n",
    "drop_list = ['fl_date','origin_city_name', 'dest_city_name', 'dep_time','dep_delay', 'arr_time','actual_elapsed_time', 'distance']\n",
    "X_train, X_test, y_train, y_test = split_data(data, drop_list)\n",
    "y_pred = get_predictions(xgb.XGBRegressor(objective ='reg:linear', colsample_bytree = 0.3, learning_rate = 0.1,\n",
    "                max_depth = 3, alpha = 1, n_estimators = 20), X_train, y_train, X_test)\n",
    "print_scores(y_test,y_pred)"
   ]
  },
  {
   "cell_type": "code",
   "execution_count": null,
   "id": "b40728bb-96ec-4626-84dc-160438683ab6",
   "metadata": {},
   "outputs": [],
   "source": []
  },
  {
   "cell_type": "code",
   "execution_count": 55,
   "id": "e53eccbd-7676-47fe-b736-79a5c4c967b5",
   "metadata": {},
   "outputs": [
    {
     "name": "stdout",
     "output_type": "stream",
     "text": [
      "Index(['arr_delay', 'actual_elapsed_time', 'distance', 'avg_delay_carrier',\n",
      "       'origindelays', 'taildelays', 'destdelays'],\n",
      "      dtype='object')\n",
      "train-set size:  78432 \n",
      "test-set size:  19608\n",
      "Mean Absolute Error:  23.38234347259324\n",
      "R2:  0.12207353654618114\n",
      "Max Error:  1099.084984006159\n"
     ]
    }
   ],
   "source": [
    "# Case-LinearRegression : \n",
    "drop_list = ['fl_date','origin_city_name', 'dest_city_name', 'dep_time','dep_delay', 'arr_time']\n",
    "X_train, X_test, y_train, y_test = split_data(data, drop_list)\n",
    "y_pred = get_predictions(LinearRegression(), X_train, y_train, X_test)\n",
    "print_scores(y_test,y_pred)"
   ]
  },
  {
   "cell_type": "code",
   "execution_count": null,
   "id": "13b6a6a5-5694-48b7-8a1d-b5a674d09413",
   "metadata": {},
   "outputs": [],
   "source": []
  }
 ],
 "metadata": {
  "kernelspec": {
   "display_name": "Python 3 (ipykernel)",
   "language": "python",
   "name": "python3"
  },
  "language_info": {
   "codemirror_mode": {
    "name": "ipython",
    "version": 3
   },
   "file_extension": ".py",
   "mimetype": "text/x-python",
   "name": "python",
   "nbconvert_exporter": "python",
   "pygments_lexer": "ipython3",
   "version": "3.9.7"
  }
 },
 "nbformat": 4,
 "nbformat_minor": 5
}
