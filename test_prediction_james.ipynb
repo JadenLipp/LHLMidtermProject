{
 "cells": [
  {
   "cell_type": "code",
   "execution_count": 168,
   "metadata": {},
   "outputs": [],
   "source": [
    "import pandas as pd\n",
    "from sklearn.ensemble import RandomForestRegressor\n",
    "from sklearn.metrics import mean_absolute_error\n",
    "from sklearn.metrics import r2_score\n",
    "from sklearn.metrics import max_error\n",
    "from sklearn.datasets import make_regression\n",
    "import numpy as np\n"
   ]
  },
  {
   "cell_type": "code",
   "execution_count": 108,
   "metadata": {},
   "outputs": [],
   "source": [
    "df = pd.read_csv('flight.csv')\n",
    "test = pd.read_csv('test.csv')"
   ]
  },
  {
   "cell_type": "code",
   "execution_count": 109,
   "metadata": {},
   "outputs": [],
   "source": [
    "avg_delay_origin = df[['origin','arr_delay']].groupby(['origin'])['arr_delay'].mean().sort_values()\n",
    "test['origin_delays']=test['origin']\n",
    "test['origin_delays'] = test['origin_delays'].replace(avg_delay_origin)"
   ]
  },
  {
   "cell_type": "code",
   "execution_count": 110,
   "metadata": {},
   "outputs": [],
   "source": [
    "avg_delay_dest = df[['dest','arr_delay']].groupby(['dest'])['arr_delay'].mean().sort_values()\n",
    "test['dest_delays']=test['dest']\n",
    "test['dest_delays'] = test['dest_delays'].replace(avg_delay_dest)"
   ]
  },
  {
   "cell_type": "code",
   "execution_count": 111,
   "metadata": {},
   "outputs": [],
   "source": [
    "# delay_by_month = df[['Month','arr_delay']].groupby(['Month'])['arr_delay'].mean().sort_values()\n",
    "# df['delay_by_month']= df['Month']\n",
    "# df['delay_by_month'] = df['delay_by_month'].replace(delay_by_month)\n",
    "# df['delay_by_month']\n",
    "#Realized my month feature is pretty useless since we are only predicting a week"
   ]
  },
  {
   "cell_type": "code",
   "execution_count": 112,
   "metadata": {},
   "outputs": [],
   "source": [
    "# delay_by_day = df[['Day','arr_delay']].groupby(['Day'])['arr_delay'].mean().sort_values()\n",
    "# df['delay_by_day']= df['Day']\n",
    "# df['delay_by_day'] = df['delay_by_day'].replace(delay_by_day)\n",
    "# df['delay_by_day']\n",
    "#my day feature is pretty useless since we are only predicting 7 days"
   ]
  },
  {
   "cell_type": "code",
   "execution_count": 154,
   "metadata": {},
   "outputs": [],
   "source": [
    "def split_data(test, drop_list):\n",
    "    test = test.drop(drop_list,axis=1)\n",
    "    print(test.columns)\n",
    "    #test train split time\n",
    "    from sklearn.model_selection import train_test_split\n",
    "    y = test['airline_delay'].values #target\n",
    "    X = test.drop(['fl_date', 'mkt_unique_carrier', 'mkt_carrier_fl_num', 'origin', 'dest'],axis=1).values\n",
    "    X_train, X_test, y_train, y_test = train_test_split(X, y, test_size=0.2,\n",
    "                                                    random_state=100)\n",
    "\n",
    "    print(\"train-set size: \", len(y_train),\n",
    "      \"\\ntest-set size: \", len(y_test))\n",
    "    return X_train, X_test, y_train, y_test"
   ]
  },
  {
   "cell_type": "code",
   "execution_count": null,
   "metadata": {},
   "outputs": [],
   "source": []
  },
  {
   "cell_type": "code",
   "execution_count": 114,
   "metadata": {},
   "outputs": [],
   "source": [
    "def get_predictions(clf, X_train, y_train, X_test):\n",
    "    # create classifier\n",
    "    clf = clf\n",
    "    # fit it to training data\n",
    "    clf.fit(X_train,y_train)\n",
    "    # predict using test data\n",
    "    y_pred = clf.predict(X_test)\n",
    "    return y_pred"
   ]
  },
  {
   "cell_type": "code",
   "execution_count": 115,
   "metadata": {},
   "outputs": [],
   "source": [
    "#Function to print the regressor's scores\n",
    "def print_scores(y_test,y_pred):\n",
    "    print('Mean Absolute Error: ', mean_absolute_error(y_test, y_pred))\n",
    "    print('R2: ', r2_score(y_test, y_pred))\n",
    "    print('Max Error: ', max_error(y_test, y_pred))"
   ]
  },
  {
   "cell_type": "code",
   "execution_count": 116,
   "metadata": {},
   "outputs": [],
   "source": [
    "# test.drop(test[(test['dest']=='SMX')].index, inplace=True)\n",
    "# test.drop(test[(test['origin']=='SMX')].index, inplace=True)\n",
    "# test.drop(test[(test['dest']=='OWB')].index, inplace=True)\n",
    "# test.drop(test[(test['origin']=='OWB')].index, inplace=True)\n",
    "# test.drop(test[(test['dest']=='BFM')].index, inplace=True)\n",
    "# test.drop(test[(test['origin']=='BFM')].index, inplace=True)\n",
    "# test.drop(test[(test['dest']=='OGS')].index, inplace=True)\n",
    "# test.drop(test[(test['origin']=='OGS')].index, inplace=True)"
   ]
  },
  {
   "cell_type": "code",
   "execution_count": null,
   "metadata": {},
   "outputs": [],
   "source": []
  },
  {
   "cell_type": "code",
   "execution_count": 117,
   "metadata": {},
   "outputs": [],
   "source": [
    "avg_delay_airline = df[['mkt_unique_carrier','arr_delay']].groupby(['mkt_unique_carrier'])['arr_delay'].mean().sort_values()\n",
    "test['airline_delay']=test['mkt_unique_carrier']\n",
    "test['airline_delay'] = test['airline_delay'].replace(avg_delay_airline)"
   ]
  },
  {
   "cell_type": "code",
   "execution_count": 118,
   "metadata": {},
   "outputs": [],
   "source": [
    "data1 = ['origin_delays','dest_delays']\n"
   ]
  },
  {
   "cell_type": "code",
   "execution_count": 155,
   "metadata": {},
   "outputs": [
    {
     "name": "stdout",
     "output_type": "stream",
     "text": [
      "Index(['fl_date', 'mkt_unique_carrier', 'mkt_carrier_fl_num', 'origin', 'dest',\n",
      "       'distance', 'airline_delay', 'predict_delay'],\n",
      "      dtype='object')\n",
      "train-set size:  120498 \n",
      "test-set size:  30125\n",
      "Mean Absolute Error:  1.3578669217152677e-13\n",
      "R2:  1.0\n",
      "Max Error:  2.2026824808563106e-13\n"
     ]
    }
   ],
   "source": [
    "X_train, X_test, y_train, y_test = split_data(test, data1)\n",
    "y_pred = get_predictions(RandomForestRegressor(), X_train, y_train, X_test)\n",
    "print_scores(y_test,y_pred)"
   ]
  },
  {
   "cell_type": "code",
   "execution_count": 158,
   "metadata": {},
   "outputs": [
    {
     "data": {
      "text/plain": [
       "RandomForestRegressor()"
      ]
     },
     "execution_count": 158,
     "metadata": {},
     "output_type": "execute_result"
    }
   ],
   "source": [
    "reg = RandomForestRegressor()\n",
    "reg.fit(X_train, y_train)\n",
    "# y_pred.fit(X_train, y_train)"
   ]
  },
  {
   "cell_type": "code",
   "execution_count": 170,
   "metadata": {},
   "outputs": [],
   "source": [
    "y_pred = reg.predict(X_test)\n",
    "y_predd = reg.predict(X_train)\n",
    "y_pred = np.concatenate((y_pred,y_predd),axis=0)"
   ]
  },
  {
   "cell_type": "code",
   "execution_count": 174,
   "metadata": {},
   "outputs": [],
   "source": [
    "test['predict_delay'] = y_pred"
   ]
  },
  {
   "cell_type": "code",
   "execution_count": 176,
   "metadata": {},
   "outputs": [
    {
     "data": {
      "text/html": [
       "<div>\n",
       "<style scoped>\n",
       "    .dataframe tbody tr th:only-of-type {\n",
       "        vertical-align: middle;\n",
       "    }\n",
       "\n",
       "    .dataframe tbody tr th {\n",
       "        vertical-align: top;\n",
       "    }\n",
       "\n",
       "    .dataframe thead th {\n",
       "        text-align: right;\n",
       "    }\n",
       "</style>\n",
       "<table border=\"1\" class=\"dataframe\">\n",
       "  <thead>\n",
       "    <tr style=\"text-align: right;\">\n",
       "      <th></th>\n",
       "      <th>fl_date</th>\n",
       "      <th>mkt_unique_carrier</th>\n",
       "      <th>mkt_carrier_fl_num</th>\n",
       "      <th>origin</th>\n",
       "      <th>dest</th>\n",
       "      <th>distance</th>\n",
       "      <th>predict_delay</th>\n",
       "    </tr>\n",
       "  </thead>\n",
       "  <tbody>\n",
       "    <tr>\n",
       "      <th>0</th>\n",
       "      <td>2020-01-01</td>\n",
       "      <td>WN</td>\n",
       "      <td>5888</td>\n",
       "      <td>ONT</td>\n",
       "      <td>SFO</td>\n",
       "      <td>363</td>\n",
       "      <td>3.205575</td>\n",
       "    </tr>\n",
       "    <tr>\n",
       "      <th>1</th>\n",
       "      <td>2020-01-01</td>\n",
       "      <td>WN</td>\n",
       "      <td>6276</td>\n",
       "      <td>ONT</td>\n",
       "      <td>SFO</td>\n",
       "      <td>363</td>\n",
       "      <td>2.273931</td>\n",
       "    </tr>\n",
       "    <tr>\n",
       "      <th>2</th>\n",
       "      <td>2020-01-01</td>\n",
       "      <td>WN</td>\n",
       "      <td>4598</td>\n",
       "      <td>ONT</td>\n",
       "      <td>SJC</td>\n",
       "      <td>333</td>\n",
       "      <td>8.736684</td>\n",
       "    </tr>\n",
       "    <tr>\n",
       "      <th>3</th>\n",
       "      <td>2020-01-01</td>\n",
       "      <td>WN</td>\n",
       "      <td>4761</td>\n",
       "      <td>ONT</td>\n",
       "      <td>SJC</td>\n",
       "      <td>333</td>\n",
       "      <td>6.170646</td>\n",
       "    </tr>\n",
       "    <tr>\n",
       "      <th>4</th>\n",
       "      <td>2020-01-01</td>\n",
       "      <td>WN</td>\n",
       "      <td>5162</td>\n",
       "      <td>ONT</td>\n",
       "      <td>SJC</td>\n",
       "      <td>333</td>\n",
       "      <td>3.205575</td>\n",
       "    </tr>\n",
       "    <tr>\n",
       "      <th>...</th>\n",
       "      <td>...</td>\n",
       "      <td>...</td>\n",
       "      <td>...</td>\n",
       "      <td>...</td>\n",
       "      <td>...</td>\n",
       "      <td>...</td>\n",
       "      <td>...</td>\n",
       "    </tr>\n",
       "    <tr>\n",
       "      <th>150618</th>\n",
       "      <td>2020-01-07</td>\n",
       "      <td>DL</td>\n",
       "      <td>4813</td>\n",
       "      <td>DTW</td>\n",
       "      <td>JFK</td>\n",
       "      <td>509</td>\n",
       "      <td>2.273931</td>\n",
       "    </tr>\n",
       "    <tr>\n",
       "      <th>150619</th>\n",
       "      <td>2020-01-07</td>\n",
       "      <td>DL</td>\n",
       "      <td>4814</td>\n",
       "      <td>GSP</td>\n",
       "      <td>LGA</td>\n",
       "      <td>610</td>\n",
       "      <td>0.345636</td>\n",
       "    </tr>\n",
       "    <tr>\n",
       "      <th>150620</th>\n",
       "      <td>2020-01-07</td>\n",
       "      <td>DL</td>\n",
       "      <td>4815</td>\n",
       "      <td>ATL</td>\n",
       "      <td>XNA</td>\n",
       "      <td>589</td>\n",
       "      <td>3.205575</td>\n",
       "    </tr>\n",
       "    <tr>\n",
       "      <th>150621</th>\n",
       "      <td>2020-01-07</td>\n",
       "      <td>DL</td>\n",
       "      <td>4815</td>\n",
       "      <td>XNA</td>\n",
       "      <td>ATL</td>\n",
       "      <td>589</td>\n",
       "      <td>8.736684</td>\n",
       "    </tr>\n",
       "    <tr>\n",
       "      <th>150622</th>\n",
       "      <td>2020-01-07</td>\n",
       "      <td>DL</td>\n",
       "      <td>4816</td>\n",
       "      <td>PWM</td>\n",
       "      <td>LGA</td>\n",
       "      <td>269</td>\n",
       "      <td>2.273931</td>\n",
       "    </tr>\n",
       "  </tbody>\n",
       "</table>\n",
       "<p>150623 rows × 7 columns</p>\n",
       "</div>"
      ],
      "text/plain": [
       "           fl_date mkt_unique_carrier  mkt_carrier_fl_num origin dest  \\\n",
       "0       2020-01-01                 WN                5888    ONT  SFO   \n",
       "1       2020-01-01                 WN                6276    ONT  SFO   \n",
       "2       2020-01-01                 WN                4598    ONT  SJC   \n",
       "3       2020-01-01                 WN                4761    ONT  SJC   \n",
       "4       2020-01-01                 WN                5162    ONT  SJC   \n",
       "...            ...                ...                 ...    ...  ...   \n",
       "150618  2020-01-07                 DL                4813    DTW  JFK   \n",
       "150619  2020-01-07                 DL                4814    GSP  LGA   \n",
       "150620  2020-01-07                 DL                4815    ATL  XNA   \n",
       "150621  2020-01-07                 DL                4815    XNA  ATL   \n",
       "150622  2020-01-07                 DL                4816    PWM  LGA   \n",
       "\n",
       "        distance  predict_delay  \n",
       "0            363       3.205575  \n",
       "1            363       2.273931  \n",
       "2            333       8.736684  \n",
       "3            333       6.170646  \n",
       "4            333       3.205575  \n",
       "...          ...            ...  \n",
       "150618       509       2.273931  \n",
       "150619       610       0.345636  \n",
       "150620       589       3.205575  \n",
       "150621       589       8.736684  \n",
       "150622       269       2.273931  \n",
       "\n",
       "[150623 rows x 7 columns]"
      ]
     },
     "execution_count": 176,
     "metadata": {},
     "output_type": "execute_result"
    }
   ],
   "source": [
    "test.drop(columns=['origin_delays','dest_delays','airline_delay'])"
   ]
  },
  {
   "cell_type": "code",
   "execution_count": 177,
   "metadata": {},
   "outputs": [],
   "source": [
    "test.to_csv('final_result.csv')"
   ]
  },
  {
   "cell_type": "code",
   "execution_count": null,
   "metadata": {},
   "outputs": [],
   "source": []
  }
 ],
 "metadata": {
  "interpreter": {
   "hash": "c11202d2846b22eec7deaf37ea813ba92a5f75b5344a4d16688175855af7948e"
  },
  "kernelspec": {
   "display_name": "Python 3.9.10 ('base')",
   "language": "python",
   "name": "python3"
  },
  "language_info": {
   "codemirror_mode": {
    "name": "ipython",
    "version": 3
   },
   "file_extension": ".py",
   "mimetype": "text/x-python",
   "name": "python",
   "nbconvert_exporter": "python",
   "pygments_lexer": "ipython3",
   "version": "3.9.10"
  },
  "orig_nbformat": 4
 },
 "nbformat": 4,
 "nbformat_minor": 2
}
