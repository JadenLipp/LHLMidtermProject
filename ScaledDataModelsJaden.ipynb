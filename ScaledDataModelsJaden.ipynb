{
 "cells": [
  {
   "cell_type": "code",
   "execution_count": 10,
   "id": "062fac5b-1307-4a13-b71d-3fdf7b52c1c8",
   "metadata": {},
   "outputs": [],
   "source": [
    "#testing data as scaled"
   ]
  },
  {
   "cell_type": "code",
   "execution_count": 1,
   "id": "0255d48e-e13a-466b-b0be-b82645abd724",
   "metadata": {},
   "outputs": [],
   "source": [
    "import pandas as pd\n",
    "import numpy as np\n",
    "from sklearn.metrics import mean_absolute_error\n",
    "from sklearn.metrics import r2_score\n",
    "from sklearn.metrics import max_error\n",
    "from sklearn.linear_model import LinearRegression, LogisticRegression\n",
    "from sklearn.ensemble import RandomForestRegressor\n",
    "from sklearn.naive_bayes import GaussianNB\n",
    "import xgboost as xgb"
   ]
  },
  {
   "cell_type": "code",
   "execution_count": 36,
   "id": "a5490e96-9ba8-4f27-9695-e98837d76f72",
   "metadata": {},
   "outputs": [],
   "source": [
    "data = pd.read_csv('data')\n",
    "data = data.drop(columns=['taxi_out', 'taxi_in', 'air_time'])\n",
    "data['arr_delay'] = data['arr_delay'].replace(np.NaN, 0)\n",
    "data['dep_delay'] = data['dep_delay'].replace(np.NaN, 0)"
   ]
  },
  {
   "cell_type": "code",
   "execution_count": 45,
   "id": "619210e3-938a-4cfb-81bd-d312e48e8dfe",
   "metadata": {},
   "outputs": [],
   "source": [
    "#Below is funtion to define classifier and get predictions. \n",
    "#We can use \"predict()\" method that checks whether the trained algorithm perfirds well on test data \n",
    "def get_predictions(clf, X_train, y_train, X_test):\n",
    "    # create classifier\n",
    "    clf = clf\n",
    "    # fit it to training data\n",
    "    clf.fit(X_train,y_train)\n",
    "    # predict using test data\n",
    "    y_pred = clf.predict(X_test)\n",
    "    # Compute predicted probabilities: y_pred_prob\n",
    "    #y_pred_prob = clf.predict_proba(X_test)\n",
    "    return y_pred"
   ]
  },
  {
   "cell_type": "code",
   "execution_count": 46,
   "id": "a7afd1f4-5e6c-4f77-bbec-608511d4f5f7",
   "metadata": {},
   "outputs": [],
   "source": [
    "#Function to print the classifier's scores\n",
    "def print_scores(y_test,y_pred):\n",
    "    print('Mean Absolute Error: ', mean_absolute_error(y_test, y_pred))\n",
    "    print('R2: ', r2_score(y_test, y_pred))\n",
    "    print('Max Error: ', max_error(y_test, y_pred))"
   ]
  },
  {
   "cell_type": "code",
   "execution_count": 37,
   "id": "95984696-96c3-4896-a6f8-f619ef321fd3",
   "metadata": {},
   "outputs": [],
   "source": [
    "data = data.drop(columns = ['fl_date','origin_city_name', 'dest_city_name', 'dep_time', 'arr_time','dep_delay'])"
   ]
  },
  {
   "cell_type": "code",
   "execution_count": 41,
   "id": "17daf14f-48d4-41bd-bd6d-50e5de3b6b07",
   "metadata": {},
   "outputs": [
    {
     "name": "stdout",
     "output_type": "stream",
     "text": [
      "[[ 54.]\n",
      " [ -2.]\n",
      " [-10.]\n",
      " ...\n",
      " [-21.]\n",
      " [ -8.]\n",
      " [-15.]]\n",
      "[[ 1.76000000e+02  7.26000000e+02  6.89167100e+00  1.16134454e+01\n",
      "  -6.36363636e-01  2.95770393e+00]\n",
      " [ 1.18000000e+02  5.94000000e+02  4.83250600e+00  2.92668488e+00\n",
      "   1.10000000e+00  2.98578298e+00]\n",
      " [ 1.83000000e+02  1.50600000e+03  3.89691100e+00  8.69790454e+00\n",
      "  -1.30000000e+00  2.57928118e+00]\n",
      " ...\n",
      " [ 7.80000000e+01  3.68000000e+02  2.48986100e+00  2.07725322e+00\n",
      "  -1.34583333e+01  4.80940951e+00]\n",
      " [ 9.80000000e+01  5.79000000e+02  2.48986100e+00  3.41290323e+01\n",
      "  -1.20000000e+00  2.98578298e+00]\n",
      " [ 1.00000000e+02  5.00000000e+02  2.48986100e+00  1.09166667e+01\n",
      "  -7.91666667e+00  2.98578298e+00]]\n"
     ]
    }
   ],
   "source": [
    "y = data['arr_delay'].values.reshape(-1,1)\n",
    "print(y)\n",
    "X = data.drop(['arr_delay'],axis=1).values\n",
    "print(X)"
   ]
  },
  {
   "cell_type": "code",
   "execution_count": 43,
   "id": "818c58c7-38c9-4373-b5ce-bc7be01f8206",
   "metadata": {},
   "outputs": [
    {
     "data": {
      "text/plain": [
       "array([[ 0.59825742, -0.07759678,  0.40627062,  1.26430886, -0.4347462 ,\n",
       "        -0.53773112],\n",
       "       [-0.21270355, -0.30228517, -0.27759524, -0.58309534, -0.31501769,\n",
       "        -0.53216176],\n",
       "       [ 0.69613202,  1.25010734, -0.58831414,  0.64426386, -0.48050631,\n",
       "        -0.61278971],\n",
       "       ...,\n",
       "       [-0.77198697, -0.68697892, -1.05560718, -0.76374308, -1.31886705,\n",
       "        -0.17045298],\n",
       "       [-0.49234526, -0.32781794, -1.05560718,  6.05267502, -0.47361095,\n",
       "        -0.53216176],\n",
       "       [-0.46438109, -0.46229054, -1.05560718,  1.11612567, -0.93674924,\n",
       "        -0.53216176]])"
      ]
     },
     "execution_count": 43,
     "metadata": {},
     "output_type": "execute_result"
    }
   ],
   "source": [
    "# scaling data to see if it makes a difference\n",
    "from sklearn.preprocessing import StandardScaler\n",
    "from sklearn.preprocessing import Normalizer\n",
    "\n",
    "#scaling\n",
    "scaler = StandardScaler()\n",
    "scaler.fit(X)\n",
    "X_scale = scaler.transform(X)\n",
    "X_scale"
   ]
  },
  {
   "cell_type": "code",
   "execution_count": 42,
   "id": "fb873293-ff88-4c54-bbfb-5a8013a3eb35",
   "metadata": {},
   "outputs": [
    {
     "data": {
      "text/plain": [
       "array([[ 0.94156002],\n",
       "       [-0.1493806 ],\n",
       "       [-0.30522926],\n",
       "       ...,\n",
       "       [-0.51952117],\n",
       "       [-0.26626709],\n",
       "       [-0.40263467]])"
      ]
     },
     "execution_count": 42,
     "metadata": {},
     "output_type": "execute_result"
    }
   ],
   "source": [
    "#scaling\n",
    "scaler = StandardScaler()\n",
    "scaler.fit(y)\n",
    "y_scale = scaler.transform(y)\n",
    "y_scale"
   ]
  },
  {
   "cell_type": "code",
   "execution_count": 44,
   "id": "d669ba20-31f9-4695-aaf1-180dd1c823d7",
   "metadata": {},
   "outputs": [],
   "source": [
    "from sklearn.model_selection import train_test_split\n",
    "X_train, X_test, y_train, y_test = train_test_split(X_scale, y_scale, test_size=0.2,\n",
    "                                                    random_state=42)\n"
   ]
  },
  {
   "cell_type": "code",
   "execution_count": 47,
   "id": "781dcd73-9a4c-4e1a-935b-17a36d3eae97",
   "metadata": {},
   "outputs": [
    {
     "name": "stderr",
     "output_type": "stream",
     "text": [
      "C:\\Users\\Jaden\\AppData\\Local\\Temp/ipykernel_7980/2621364092.py:11: DataConversionWarning: A column-vector y was passed when a 1d array was expected. Please change the shape of y to (n_samples,), for example using ravel().\n",
      "  clf.fit(X_train,y_train)\n"
     ]
    },
    {
     "name": "stdout",
     "output_type": "stream",
     "text": [
      "Mean Absolute Error:  0.47832286782734357\n",
      "R2:  0.06932111562235244\n",
      "Max Error:  21.798968953672993\n"
     ]
    }
   ],
   "source": [
    "# Case-RandomForestRegressor-2 : added max_depth=3 == best result\n",
    "y_pred = get_predictions(RandomForestRegressor(n_estimators=100, max_depth=3), X_train, y_train, X_test)\n",
    "print_scores(y_test,y_pred)"
   ]
  },
  {
   "cell_type": "code",
   "execution_count": 49,
   "id": "6b772926-68c5-4535-abfb-d5fcbd1a41c8",
   "metadata": {},
   "outputs": [
    {
     "name": "stdout",
     "output_type": "stream",
     "text": [
      "Mean Absolute Error:  0.4564185667245994\n",
      "R2:  0.07325216647651345\n",
      "Max Error:  21.832942644990638\n"
     ]
    }
   ],
   "source": [
    "from sklearn.neighbors import KNeighborsRegressor\n",
    "# Case-KNeighborsClassifier-1: Does not perform as well\n",
    "y_pred = get_predictions(KNeighborsRegressor(n_neighbors=1500), X_train, y_train, X_test)\n",
    "print_scores(y_test,y_pred)"
   ]
  },
  {
   "cell_type": "code",
   "execution_count": 50,
   "id": "a52ae7b9-c318-46f5-b20e-449a87e076bb",
   "metadata": {},
   "outputs": [
    {
     "name": "stdout",
     "output_type": "stream",
     "text": [
      "Mean Absolute Error:  0.4555100611849898\n",
      "R2:  0.12207192288302127\n",
      "Max Error:  21.411385910661117\n"
     ]
    }
   ],
   "source": [
    "from sklearn.linear_model import Ridge\n",
    "# Case-Ridge-1: Best performer thus far, 0.122 R2!\n",
    "y_pred = get_predictions(Ridge(alpha=1), X_train, y_train, X_test)\n",
    "print_scores(y_test,y_pred)"
   ]
  },
  {
   "cell_type": "code",
   "execution_count": null,
   "id": "221ea8c9-ef9c-4b37-ae9d-4147fc75c1db",
   "metadata": {},
   "outputs": [],
   "source": [
    "#no big difference in the R2 values of the best performing models with scaling introduced"
   ]
  },
  {
   "cell_type": "code",
   "execution_count": null,
   "id": "3de4258d-b2eb-4538-9cfb-e4d58ddd54e7",
   "metadata": {},
   "outputs": [],
   "source": []
  }
 ],
 "metadata": {
  "kernelspec": {
   "display_name": "Python 3 (ipykernel)",
   "language": "python",
   "name": "python3"
  },
  "language_info": {
   "codemirror_mode": {
    "name": "ipython",
    "version": 3
   },
   "file_extension": ".py",
   "mimetype": "text/x-python",
   "name": "python",
   "nbconvert_exporter": "python",
   "pygments_lexer": "ipython3",
   "version": "3.9.7"
  }
 },
 "nbformat": 4,
 "nbformat_minor": 5
}
